{
 "cells": [
  {
   "cell_type": "markdown",
   "metadata": {
    "deletable": true,
    "editable": true
   },
   "source": [
    "# Автокодировщик"
   ]
  },
  {
   "cell_type": "code",
   "execution_count": null,
   "metadata": {
    "collapsed": false,
    "deletable": true,
    "editable": true
   },
   "outputs": [],
   "source": [
    "import time\n",
    "\n",
    "import numpy as np\n",
    "import theano\n",
    "import theano.tensor as T\n",
    "import lasagne\n",
    "\n",
    "import matplotlib.pylab as plt\n",
    "from utils import load_dataset, iterate_minibatches\n",
    "%matplotlib inline\n",
    "\n",
    "BATCH_SIZE = 20\n",
    "HIDDEN_DIM = 2\n",
    "\n",
    "num_epochs = 128\n",
    "\n",
    "X_train, y_train, X_val, y_val, X_test, y_test = load_dataset()"
   ]
  },
  {
   "cell_type": "markdown",
   "metadata": {
    "deletable": true,
    "editable": true
   },
   "source": [
    "## Обучение модели\n",
    "\n",
    "tl;dr: Автокодировщик может быть использован для построения маломерных признаков данных без разметки.\n",
    "\n",
    "В процессе обучения строится пара отображений $E: \\mathbb R^D \\rightarrow R^d$ (кодировщик) и $D: \\mathbb R^d \\rightarrow R^D$ (декодировщик), чья композиция приближает тождественное отображение:\n",
    "\n",
    "$$ D(E(x)) \\approx x $$"
   ]
  },
  {
   "cell_type": "code",
   "execution_count": null,
   "metadata": {
    "collapsed": true,
    "deletable": true,
    "editable": true
   },
   "outputs": [],
   "source": [
    "# Определим кодировщик и декодировщик с помощью пары полносвязных нейронных сетей\n",
    "\n",
    "def ae_encoder(input_var):\n",
    "    l_in = lasagne.layers.InputLayer(shape=(None, 1, 28, 28), input_var=input_var)\n",
    "    ######################################################################################\n",
    "    # Реализуйте некоторую несложную архитектуру кодировщика, возвращающую HIDDEN_DIM-мерный код #\n",
    "    # Какие функции активации можно поставить на выход сети?                                  #\n",
    "    ######################################################################################\n",
    "    l_hid1 = lasagne.layers.DenseLayer(\n",
    "            l_in, num_units=128,\n",
    "            nonlinearity=lasagne.nonlinearities.rectify,\n",
    "            W=lasagne.init.GlorotUniform(),\n",
    "            name='e_hid1')\n",
    "    l_hid2 = lasagne.layers.DenseLayer(\n",
    "            l_hid1, num_units=64,\n",
    "            nonlinearity=lasagne.nonlinearities.rectify,\n",
    "            name='e_hid2')\n",
    "    l_out = lasagne.layers.DenseLayer(\n",
    "            l_hid2, num_units=HIDDEN_DIM,\n",
    "            nonlinearity=None,\n",
    "            name='e_out')\n",
    "    return l_out\n",
    "\n",
    "\n",
    "def ae_decoder(input_var):\n",
    "    l_in = lasagne.layers.InputLayer(shape=(None, HIDDEN_DIM), input_var=input_var)\n",
    "    ##################################################################################################\n",
    "    # Реализуйте некоторую несложную архитектуру декодировщика, возвращающую батч объектов размера (1, 28, 28) #\n",
    "    ##################################################################################################\n",
    "    l_hid1 = lasagne.layers.DenseLayer(\n",
    "            l_in, num_units=64,\n",
    "            nonlinearity=lasagne.nonlinearities.rectify,\n",
    "            W=lasagne.init.GlorotUniform(),\n",
    "            name='d_hid1')\n",
    "    l_hid2 = lasagne.layers.DenseLayer(\n",
    "            l_hid1, num_units=128,\n",
    "            nonlinearity=lasagne.nonlinearities.rectify,\n",
    "            name='d_hid2')\n",
    "    l_out = lasagne.layers.DenseLayer(\n",
    "            l_hid2, num_units=28 * 28,\n",
    "            nonlinearity=lasagne.nonlinearities.sigmoid,\n",
    "            name='d_out')\n",
    "    l_out = lasagne.layers.reshape(l_out, shape=(-1, 1, 28, 28))\n",
    "    return l_out"
   ]
  },
  {
   "cell_type": "code",
   "execution_count": null,
   "metadata": {
    "collapsed": true,
    "deletable": true,
    "editable": true
   },
   "outputs": [],
   "source": [
    "# Инициализируем сеть\n",
    "input_x = T.tensor4('input_x')\n",
    "    \n",
    "encoder = ae_encoder(input_x)\n",
    "decoder = ae_decoder(\n",
    "    lasagne.layers.get_output(encoder)\n",
    ")"
   ]
  },
  {
   "cell_type": "markdown",
   "metadata": {
    "deletable": true,
    "editable": true
   },
   "source": [
    "Для обучения автокодировщика будем использовать среднеквадратичную ошибку\n",
    "\n",
    "$$ L(X) = \\frac{1}{N}\\sum_{i=1}^{N} \\sum_{j=1}^{28^2} \\left( D(E(x_i))_j - x_{i,j} \\right)^2 = \\frac{1}{N}\\sum_{i=1}^{N} (D(E(x_i)) - x_i)^T (D(E(x_i)) - x_i) $$"
   ]
  },
  {
   "cell_type": "code",
   "execution_count": null,
   "metadata": {
    "collapsed": false,
    "deletable": true,
    "editable": true
   },
   "outputs": [],
   "source": [
    "#####################################################################################\n",
    "# Определите операцию для вычисления функции потерь, а также создайте список параметров модели #\n",
    "# для передачи в оптимизатор                                                           #\n",
    "loss = lasagne.objectives.squared_error(\n",
    "    lasagne.layers.get_output(decoder), input_x\n",
    ").sum(axis=(1, 2, 3)).mean()\n",
    "params = lasagne.layers.get_all_params([encoder, decoder])\n",
    "#####################################################################################\n",
    "\n",
    "updates = lasagne.updates.adam(loss, params)\n",
    " \n",
    "train = theano.function(\n",
    "    [input_x],\n",
    "    loss,\n",
    "    updates=updates\n",
    ")\n",
    "test_loss = theano.function(\n",
    "    [input_x],\n",
    "    loss\n",
    ")"
   ]
  },
  {
   "cell_type": "markdown",
   "metadata": {
    "deletable": true,
    "editable": true
   },
   "source": [
    "Обучение, как и во многих других случаях, выполяется с помощью стохастического градиентного спуска"
   ]
  },
  {
   "cell_type": "code",
   "execution_count": null,
   "metadata": {
    "collapsed": false,
    "deletable": true,
    "editable": true
   },
   "outputs": [],
   "source": [
    "for epoch in range(num_epochs):\n",
    "    train_err = 0\n",
    "    train_batches = 0\n",
    "    start_time = time.time()\n",
    "    for batch in iterate_minibatches(X_train, batchsize=BATCH_SIZE):\n",
    "        train_err += train(batch)\n",
    "        train_batches += 1\n",
    "        \n",
    "    test_err = 0\n",
    "    test_batches = 0\n",
    "    for batch in iterate_minibatches(X_test, batchsize=BATCH_SIZE):\n",
    "        test_err += test_loss(batch)\n",
    "        test_batches += 1\n",
    "        \n",
    "    print(\"Epoch {} of {} took {:.3f}s\".format(\n",
    "          epoch + 1, num_epochs, time.time() - start_time))\n",
    "    print(\"Train error {}\".format(train_err/train_batches))\n",
    "    print(\"Test error {}\".format(test_err/test_batches))"
   ]
  },
  {
   "cell_type": "markdown",
   "metadata": {
    "deletable": true,
    "editable": true
   },
   "source": [
    "## Визуализация\n",
    "\n",
    "Модель с двумерными скрытыми переменными легко визуализировать. Определим две функции: одну для построения пропущенных через автокодировщик изображений, вторую для вычисления скрытых представлений по изображению"
   ]
  },
  {
   "cell_type": "code",
   "execution_count": null,
   "metadata": {
    "collapsed": false,
    "deletable": true,
    "editable": true
   },
   "outputs": [],
   "source": [
    "from utils import plot_reconstructions, plot_hidden_space\n",
    "\n",
    "reconstruct = theano.function(\n",
    "        [input_x],\n",
    "        lasagne.layers.get_output(decoder)\n",
    ")\n",
    "\n",
    "encode = theano.function(\n",
    "        [input_x],\n",
    "        lasagne.layers.get_output(encoder)\n",
    ")"
   ]
  },
  {
   "cell_type": "markdown",
   "metadata": {
    "deletable": true,
    "editable": true
   },
   "source": [
    "Примеры изображений, пропущенных через автокодировщик: "
   ]
  },
  {
   "cell_type": "code",
   "execution_count": null,
   "metadata": {
    "collapsed": false,
    "deletable": true,
    "editable": true
   },
   "outputs": [],
   "source": [
    "plot_reconstructions(X_test, reconstruct)"
   ]
  },
  {
   "cell_type": "markdown",
   "metadata": {
    "deletable": true,
    "editable": true
   },
   "source": [
    "Визуализация признакового пространства. Насколько пространство простое? Везде ли оно плотно? Как выбрать точку в этом пространстве, которая будет соответствовать коду какого-то объекта?"
   ]
  },
  {
   "cell_type": "code",
   "execution_count": null,
   "metadata": {
    "collapsed": false,
    "deletable": true,
    "editable": true
   },
   "outputs": [],
   "source": [
    "plot_hidden_space(X_test[:1000], encode)"
   ]
  },
  {
   "cell_type": "markdown",
   "metadata": {
    "deletable": true,
    "editable": true
   },
   "source": [
    "Попробуйте погенерировать изображения по паре координат"
   ]
  },
  {
   "cell_type": "code",
   "execution_count": null,
   "metadata": {
    "collapsed": true,
    "deletable": true,
    "editable": true
   },
   "outputs": [],
   "source": [
    "input_z = T.matrix('input_z')\n",
    "\n",
    "decode_a_code = theano.function(\n",
    "    [input_z],\n",
    "    lasagne.layers.get_output(decoder, input_z),\n",
    ")\n",
    "\n",
    "def generate_from_code(x, y):\n",
    "    img = decode_a_code([[x, y]]).reshape((28, 28))\n",
    "    plt.imshow(img, 'gray')"
   ]
  },
  {
   "cell_type": "code",
   "execution_count": null,
   "metadata": {
    "collapsed": false,
    "deletable": true,
    "editable": true
   },
   "outputs": [],
   "source": [
    "generate_from_code(50., 20.)"
   ]
  }
 ],
 "metadata": {
  "kernelspec": {
   "display_name": "Python 3",
   "language": "python",
   "name": "python3"
  },
  "language_info": {
   "codemirror_mode": {
    "name": "ipython",
    "version": 3
   },
   "file_extension": ".py",
   "mimetype": "text/x-python",
   "name": "python",
   "nbconvert_exporter": "python",
   "pygments_lexer": "ipython3",
   "version": "3.5.1"
  }
 },
 "nbformat": 4,
 "nbformat_minor": 2
}
