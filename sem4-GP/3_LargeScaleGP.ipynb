{
 "cells": [
  {
   "cell_type": "markdown",
   "metadata": {
    "slideshow": {
     "slide_type": "slide"
    }
   },
   "source": [
    "### Large-scale GP\n",
    "\n",
    "Predictive mean and variance of GPR model:\n",
    "$$\n",
    "m(x_*) = \\mathbf{k}^T \\mathbf{K}_y^{-1} \\mathbf{y},\n",
    "$$\n",
    "$$\n",
    "\\sigma^2(x_*) = k(x_*, x_*) - \\mathbf{k}^T\\mathbf{K}_y^{-1}\\mathbf{k}\n",
    "$$\n",
    "\n",
    "**Issue**: the computational complexity is $\\mathcal{O}(N^3)$, where $N$ is the training size."
   ]
  },
  {
   "cell_type": "markdown",
   "metadata": {
    "slideshow": {
     "slide_type": "slide"
    }
   },
   "source": [
    "### Nystrom approximation\n",
    "\n",
    "Idea: introduce inducing points $(X_u, \\mathbf{u})$ which are used for low-rank approximation of covariance matrix:\n",
    "$$\n",
    "\\mathbf{K} \\approx \\mathbf{K}_{NM} \\mathbf{K}_{MM}^{-1} \\mathbf{K}_{MN}, \\quad \\mathbf{K}_{NM} = k(X, X_u), \\mathbf{K}_{MM} = k(X_u, X_u), \\mathbf{K}_{MN} = k(X_u, X)\n",
    "$$\n",
    "\n",
    "Predictive distribtion:\n",
    "$$\n",
    "f_* \\; | \\; x_*, X, \\mathbf{y} \\sim \\mathcal{N}\\left (m(x_*), \\; \\sigma^2(x_*)\\right ),\n",
    "$$\n",
    "$$\n",
    "m(x_*) = \\mathbf{k}^T \\left (\\mathbf{K}_{NM}\\mathbf{K}_{MM}^{-1} \\mathbf{K}_{MN} + \\sigma_n^2 I \\right )^{-1} \\mathbf{y}\n",
    "$$\n",
    "$$\n",
    "\\sigma^2(x_*) = k(x_*, x_*) - \\mathbf{k}^T\\left (\\mathbf{K}_{NM}\\mathbf{K}_{MM}^{-1}\\mathbf{K}_{MN} + \\sigma^2_n I \\right)^{-1} k(x_*, x_*)\n",
    "$$"
   ]
  },
  {
   "cell_type": "markdown",
   "metadata": {
    "slideshow": {
     "slide_type": "slide"
    }
   },
   "source": [
    "Using Woodbury matrix identity we can calculate the inverse more efficiently:\n",
    "$$\n",
    "\\left (\\sigma_n^2 I + \\mathbf{K}_{NM}\\mathbf{K}_{MM}^{-1} \\mathbf{K}_{MN} \\right)^{-1} = \\sigma_n^{-2} \\left (\n",
    "I - \\mathbf{K}_{NM} \\left (\\sigma_n^2 \\mathbf{K}_{MM} + \\mathbf{K}_{MN} \\mathbf{K}_{NM} \\right )^{-1} \\mathbf{K}_{MN}\n",
    "\\right )\n",
    "$$\n",
    "\n",
    "The computational complexity is $\\mathcal{O}(NM^2)$."
   ]
  },
  {
   "cell_type": "code",
   "execution_count": 9,
   "metadata": {
    "slideshow": {
     "slide_type": "skip"
    }
   },
   "outputs": [],
   "source": [
    "from __future__ import print_function\n",
    "\n",
    "import pandas as pd\n",
    "import numpy as np\n",
    "import GPy\n",
    "from sklearn.model_selection import train_test_split\n",
    "from sklearn.metrics import mean_squared_error, r2_score\n",
    "from sklearn.preprocessing import StandardScaler\n",
    "from sklearn.model_selection import cross_val_predict\n",
    "from sklearn.pipeline import Pipeline\n",
    "from sklearn import svm\n",
    "\n",
    "from matplotlib import pyplot\n",
    "\n",
    "%matplotlib inline"
   ]
  },
  {
   "cell_type": "markdown",
   "metadata": {
    "slideshow": {
     "slide_type": "skip"
    }
   },
   "source": [
    "For convenience we wrap GPy model to have sklearn-like API to use it in `cross_val_predict()` function from sklearn\n",
    "\n",
    "Note, that in this implementation we generate random inducing inputs and fix them. However, inducing points can be optimized."
   ]
  },
  {
   "cell_type": "code",
   "execution_count": 11,
   "metadata": {
    "collapsed": true,
    "slideshow": {
     "slide_type": "skip"
    }
   },
   "outputs": [],
   "source": [
    "from sklearn.base import BaseEstimator\n",
    "\n",
    "class SparseGPModel(BaseEstimator):\n",
    "    def __init__(self, kernel, num_inducing=100):\n",
    "        self.kernel_ = kernel\n",
    "        self.num_inducing = num_inducing\n",
    "        \n",
    "    def fit(self, X, y):\n",
    "        idx = np.random.permutation(X.shape[0])\n",
    "        Z = X[idx[:self.num_inducing]]\n",
    "        self.model_ = GPy.models.SparseGPRegression(X, y, kernel=self.kernel_, Z=Z)\n",
    "        self.model_.inducing_inputs.fix()\n",
    "\n",
    "        self.model_.optimize(max_iters=100)\n",
    "        return self\n",
    "\n",
    "    def predict(self, X):\n",
    "        prediction, _ = self.model_.predict(X)\n",
    "        return prediction\n",
    "        \n",
    "    def score(self, X, y):\n",
    "        prediction = self.predict(X)\n",
    "        return r2_score(y, prediction)"
   ]
  },
  {
   "cell_type": "markdown",
   "metadata": {
    "slideshow": {
     "slide_type": "skip"
    }
   },
   "source": [
    "Let's load house pricing data again."
   ]
  },
  {
   "cell_type": "code",
   "execution_count": 12,
   "metadata": {
    "collapsed": true,
    "slideshow": {
     "slide_type": "skip"
    }
   },
   "outputs": [],
   "source": [
    "data = np.loadtxt('house_pricing.csv')\n",
    "\n",
    "scaler = StandardScaler()\n",
    "\n",
    "X = scaler.fit_transform(data[:, :-1])\n",
    "y = data[:, -1:]\n",
    "y_log = np.log(y)\n",
    "\n",
    "X_train, X_test, y_train, y_test = train_test_split(X, y, train_size=0.8, random_state=42)"
   ]
  },
  {
   "cell_type": "code",
   "execution_count": 13,
   "metadata": {
    "scrolled": false,
    "slideshow": {
     "slide_type": "skip"
    }
   },
   "outputs": [
    {
     "name": "stdout",
     "output_type": "stream",
     "text": [
      "CPU times: user 8.11 s, sys: 436 ms, total: 8.55 s\n",
      "Wall time: 6.9 s\n"
     ]
    }
   ],
   "source": [
    "%%time\n",
    "kernel = GPy.kern.RBF(X.shape[1])\n",
    "\n",
    "model = SparseGPModel(kernel, num_inducing=100)\n",
    "prediction = cross_val_predict(model, X, np.log1p(y), cv=3, n_jobs=1)"
   ]
  },
  {
   "cell_type": "code",
   "execution_count": 14,
   "metadata": {
    "slideshow": {
     "slide_type": "skip"
    }
   },
   "outputs": [
    {
     "name": "stdout",
     "output_type": "stream",
     "text": [
      "0.639170469384\n"
     ]
    },
    {
     "data": {
      "image/png": "[encoded data removed]",
      "text/plain": [
       "<matplotlib.figure.Figure at 0x114486cf8>"
      ]
     },
     "metadata": {},
     "output_type": "display_data"
    }
   ],
   "source": [
    "prediction = np.expm1(prediction)\n",
    "R2 = r2_score(y, prediction)\n",
    "print(R2)\n",
    "\n",
    "def scatter_plot(y_test, prediction):\n",
    "    pyplot.plot([y_test.min(), y_test.max()], [y_test.min(), y_test.max()], '--k')\n",
    "    pyplot.scatter(y_test, prediction)\n",
    "    pyplot.xlabel('Actual value')\n",
    "    pyplot.ylabel('Predicted value')\n",
    "    pyplot.show()\n",
    "    \n",
    "scatter_plot(y, prediction)"
   ]
  },
  {
   "cell_type": "markdown",
   "metadata": {
    "slideshow": {
     "slide_type": "skip"
    }
   },
   "source": [
    "### Task\n",
    "\n",
    "For different number of inducing points (100, 200, 300, 500) build GP model and plot figure of how model accuracy and building time changes."
   ]
  },
  {
   "cell_type": "code",
   "execution_count": 20,
   "metadata": {},
   "outputs": [
    {
     "data": {
      "text/plain": [
       "(1168, 25)"
      ]
     },
     "execution_count": 20,
     "metadata": {},
     "output_type": "execute_result"
    }
   ],
   "source": [
    "X_train.shape"
   ]
  },
  {
   "cell_type": "code",
   "execution_count": 21,
   "metadata": {
    "slideshow": {
     "slide_type": "skip"
    }
   },
   "outputs": [
    {
     "name": "stderr",
     "output_type": "stream",
     "text": [
      " /Users/ferres/.pyenv/versions/3.6.0b4/envs/ds/lib/python3.6/site-packages/paramz/transformations.py:109: RuntimeWarning:overflow encountered in expm1\n",
      " /Users/ferres/.pyenv/versions/3.6.0b4/envs/ds/lib/python3.6/site-packages/GPy/kern/src/stationary.py:160: RuntimeWarning:overflow encountered in true_divide\n",
      " /Users/ferres/.pyenv/versions/3.6.0b4/envs/ds/lib/python3.6/site-packages/GPy/kern/src/rbf.py:35: RuntimeWarning:overflow encountered in square\n",
      " /Users/ferres/.pyenv/versions/3.6.0b4/envs/ds/lib/python3.6/site-packages/GPy/kern/src/rbf.py:38: RuntimeWarning:invalid value encountered in multiply\n",
      " /Users/ferres/.pyenv/versions/3.6.0b4/envs/ds/lib/python3.6/site-packages/GPy/kern/src/stationary.py:324: RuntimeWarning:invalid value encountered in true_divide\n"
     ]
    }
   ],
   "source": [
    "######## Your code here ########\n",
    "import time\n",
    "scores = []\n",
    "times = []\n",
    "\n",
    "n_inducing = np.arange(100, 1000, 20)\n",
    "for i in n_inducing:\n",
    "    t0 = time.time()\n",
    "    model = SparseGPModel(kernel, num_inducing=100).fit(X_train, y_train)\n",
    "    score = model.score(X_test, y_test)\n",
    "    scores.append(score)\n",
    "    t1 = time.time()\n",
    "    times.append(t1-t0)"
   ]
  },
  {
   "cell_type": "markdown",
   "metadata": {
    "slideshow": {
     "slide_type": "skip"
    }
   },
   "source": [
    "Plot figures"
   ]
  },
  {
   "cell_type": "code",
   "execution_count": 22,
   "metadata": {
    "scrolled": false,
    "slideshow": {
     "slide_type": "skip"
    }
   },
   "outputs": [
    {
     "data": {
      "image/png": "[encoded data removed]",
      "text/plain": [
       "<matplotlib.figure.Figure at 0x115d7f940>"
      ]
     },
     "metadata": {},
     "output_type": "display_data"
    }
   ],
   "source": [
    "figure, ax = pyplot.subplots(1, 2, figsize=(6, 3))\n",
    "ax[0].plot(n_inducing, scores, '.', label='R2')\n",
    "ax[0].plot(n_inducing, scores, '-')\n",
    "ax[1].plot(n_inducing, times, '.', label='Training time')\n",
    "ax[1].plot(n_inducing, times, '-')\n",
    "ax[0].legend()\n",
    "ax[1].legend()\n",
    "figure.tight_layout()\n",
    "pyplot.show()"
   ]
  },
  {
   "cell_type": "markdown",
   "metadata": {
    "slideshow": {
     "slide_type": "slide"
    }
   },
   "source": [
    "### Random Fourier Features\n",
    "\n",
    "Idea: shift-invariant kernel can be represented as\n",
    "$$\n",
    "k(x, y) = k(x - y) = \\int p(w) e^{jw^T(x - y)} dw\n",
    "$$\n",
    "\n",
    "Let's calculate integral approximately by Monte Carlo\n",
    "$$\n",
    "k(x, y) \\approx \\frac{1}{M} \\sum_{i=1}^M \\phi_i^T(x) \\phi_i(y),\n",
    "$$\n",
    "where $\\phi_i(x) = \\sqrt{2}\\cos(w^Tx + b)$, $w \\sim p(w), b \\sim Uniform([0, 2\\pi])$.\n",
    "\n",
    "This means that the covariance matrix is approximated by $\\mathbf{K} = \\Phi \\Phi^T$, where $\\Phi = \\|\\boldsymbol{\\phi}(x_i)\\|_{i = 1}^N, \\quad \\boldsymbol{\\phi}(x) = (\\phi_1(x), \\ldots, \\phi_M(x))$"
   ]
  },
  {
   "cell_type": "markdown",
   "metadata": {
    "slideshow": {
     "slide_type": "slide"
    }
   },
   "source": [
    "So, go back from functional space view to weight-space view:\n",
    "$$\n",
    "y = \\beta^T\\phi(x) + \\varepsilon, \\quad \\beta \\sim \\mathcal{N}(0, \\; \\Sigma), \\quad \\varepsilon \\sim \\mathcal{N}(0, \\; \\sigma_n^2)\n",
    "$$\n",
    "The predictive distribution in this case:\n",
    "$$\n",
    "f_* \\; | \\; x_*, X, \\mathbf{y} = \\mathcal{N}\\left (\\frac{1}{\\sigma_n^2}\\boldsymbol{\\phi}(x_*)^TA^{-1}\\Phi^T \\mathbf{y},\\;\n",
    "\\boldsymbol{\\phi}(x_*)^T A^{-1}\\boldsymbol{\\phi}(x_*)\n",
    "\\right ), \\quad A = \\sigma_n^{-2}\\Phi^T \\Phi + \\Sigma^{-1}\n",
    "$$\n",
    "The computational complexity is $\\mathcal{O}(NM^2)$."
   ]
  },
  {
   "cell_type": "markdown",
   "metadata": {},
   "source": [
    "### Task\n",
    "\n",
    "Implement generation of RFF"
   ]
  },
  {
   "cell_type": "code",
   "execution_count": 23,
   "metadata": {
    "collapsed": true
   },
   "outputs": [],
   "source": [
    "import scipy as sp"
   ]
  },
  {
   "cell_type": "code",
   "execution_count": 84,
   "metadata": {
    "slideshow": {
     "slide_type": "skip"
    }
   },
   "outputs": [],
   "source": [
    "from sklearn.base import BaseEstimator\n",
    "from sklearn.exceptions import NotFittedError\n",
    "from scipy.stats import cauchy, laplace\n",
    "from sklearn.metrics.pairwise import rbf_kernel, laplacian_kernel\n",
    "\n",
    "\n",
    "class RFF(BaseEstimator):\n",
    "    def __init__(self, gamma=1, n_components=50, kernel=\"rbf\"):\n",
    "        self.gamma = gamma\n",
    "        self.kernel = kernel\n",
    "        # Number of features (Monte Carlo samples)\n",
    "        self.n_components = n_components\n",
    "        self.fitted = False\n",
    "        \n",
    "    def fit(self, X, y=None):\n",
    "        \"\"\" Generates MonteCarlo random samples \"\"\"\n",
    "        d = X.shape[1]\n",
    "        \n",
    "        ######## Your coder here ########\n",
    "        #Generate D iid samples from p(w)\n",
    "        \n",
    "        if self.kernel == \"rbf\": # for RBF kernel p(w) ~ exp(-gamma * w^2)\n",
    "            self.w = sp.stats.norm.rvs(size=(self.n_components, d)) * np.sqrt(2*self.gamma)\n",
    "        elif self.kernel == \"laplace\": # for Laplace distribution p(w) ~ Cauchy(gamma)\n",
    "            self.w = sp.stats.cauchy.rvs(self.gamma, size=(self.n_components, d))\n",
    "        \n",
    "        #Generate D iid samples from Uniform(0,2*pi) \n",
    "        self.b = sp.stats.uniform.rvs(0, np.pi*2, size=self.n_components)\n",
    "        self.fitted = True\n",
    "        return self\n",
    "    \n",
    "    def transform(self, X):\n",
    "        \"\"\" Transforms the data X (n_samples, n_features) to the new map space Z(X) (n_samples, n_components)\"\"\"\n",
    "        if not self.fitted:\n",
    "            raise NotFittedError(\"RBF_MonteCarlo must be fitted beform computing the feature map Z\")\n",
    "        \n",
    "        ######## Your coder here ########\n",
    "        #Compute feature map Z(x):\n",
    "        Z = 2**.5*np.cos(X.dot(self.w.T)+self.b)\n",
    "        return Z\n",
    "    \n",
    "    def compute_kernel(self, X):\n",
    "        \"\"\" Computes the approximated kernel matrix K \"\"\"\n",
    "        if not self.fitted:\n",
    "            raise NotFittedError(\"RBF_MonteCarlo must be fitted beform computing the kernel matrix\")\n",
    "        Z = self.transform(X)\n",
    "        K = Z.dot(Z.T)\n",
    "        return K"
   ]
  },
  {
   "cell_type": "markdown",
   "metadata": {},
   "source": [
    "Now, generate 100 random points from [0, 1]^d, calculate exact kernel matrix for RBF and Exponential kernels,\n",
    "calculate their approximations using RFF and check that they are close."
   ]
  },
  {
   "cell_type": "code",
   "execution_count": 85,
   "metadata": {},
   "outputs": [
    {
     "data": {
      "text/plain": [
       "array([[ 1.        ,  0.33362135,  0.4196167 , ...,  0.59846137,\n",
       "         0.58161456,  0.48254337],\n",
       "       [ 0.33362135,  1.        ,  0.48788173, ...,  0.25640973,\n",
       "         0.48767509,  0.35711051],\n",
       "       [ 0.4196167 ,  0.48788173,  1.        , ...,  0.32210317,\n",
       "         0.66929305,  0.42709127],\n",
       "       ..., \n",
       "       [ 0.59846137,  0.25640973,  0.32210317, ...,  1.        ,\n",
       "         0.40103893,  0.56363846],\n",
       "       [ 0.58161456,  0.48767509,  0.66929305, ...,  0.40103893,\n",
       "         1.        ,  0.47426915],\n",
       "       [ 0.48254337,  0.35711051,  0.42709127, ...,  0.56363846,\n",
       "         0.47426915,  1.        ]])"
      ]
     },
     "execution_count": 85,
     "metadata": {},
     "output_type": "execute_result"
    }
   ],
   "source": [
    "######## Your code here ########\n",
    "dim = 4\n",
    "rbf = GPy.kern.RBF(dim, lengthscale=1 / np.sqrt(2)).K\n",
    "\n",
    "exponential = GPy.kern.Exponential(dim).K\n",
    "\n",
    "np.random.seed(42)\n",
    "x = np.random.rand(100, dim)\n",
    "\n",
    "######## Your code here ########\n",
    "# 1. Calculate exact kernel matrix for RBF kernel and Exponential kernels\n",
    "# 2. Calculate approximations using RFF\n",
    "# 3. Calculate approximation error ||K_exact - K_approx|| / ||K_exact|| and check whether the norm is small\n",
    "exponential(x)"
   ]
  },
  {
   "cell_type": "code",
   "execution_count": 86,
   "metadata": {},
   "outputs": [
    {
     "data": {
      "text/plain": [
       "array([[ 0.79808178,  1.37231339,  0.94507436, ..., -0.66912406,\n",
       "         0.445277  , -0.86215053],\n",
       "       [ 1.37913589,  1.41120691, -1.07861863, ..., -0.36023803,\n",
       "         1.26909352, -1.01285847],\n",
       "       [ 1.21784515,  1.40414687,  0.17822249, ..., -0.94869428,\n",
       "        -0.08215357, -1.00239054],\n",
       "       ..., \n",
       "       [-0.57843081,  1.39471074, -0.24953762, ..., -1.40568817,\n",
       "         0.57331109, -0.48507409],\n",
       "       [ 1.28050529,  1.41409855,  0.28833964, ..., -0.67237738,\n",
       "         0.16689336, -1.14058196],\n",
       "       [-0.31969132,  1.38384425, -1.40775929, ..., -1.29174816,\n",
       "         0.5120804 , -0.8444615 ]])"
      ]
     },
     "execution_count": 86,
     "metadata": {},
     "output_type": "execute_result"
    }
   ],
   "source": [
    "RFF().fit(x).transform(x)"
   ]
  },
  {
   "cell_type": "markdown",
   "metadata": {
    "slideshow": {
     "slide_type": "skip"
    }
   },
   "source": [
    "### Task\n",
    "\n",
    "For different number of inducing points (100, 200, 300, 500) build GP model and plot figure of how model accuracy and building time changes."
   ]
  },
  {
   "cell_type": "code",
   "execution_count": 27,
   "metadata": {
    "collapsed": true,
    "slideshow": {
     "slide_type": "skip"
    }
   },
   "outputs": [],
   "source": [
    "######## Your code here ########\n",
    "# Hint: use Pipeline from sklearn\n",
    "\n",
    "n_inducing = [100, 200, 300, 500]\n",
    "errors = []\n",
    "times = []\n"
   ]
  },
  {
   "cell_type": "markdown",
   "metadata": {
    "slideshow": {
     "slide_type": "skip"
    }
   },
   "source": [
    "Plot figures"
   ]
  },
  {
   "cell_type": "code",
   "execution_count": 28,
   "metadata": {
    "slideshow": {
     "slide_type": "skip"
    }
   },
   "outputs": [
    {
     "ename": "ValueError",
     "evalue": "x and y must have same first dimension, but have shapes (4,) and (0,)",
     "output_type": "error",
     "traceback": [
      "\u001b[0;31m---------------------------------------------------------------------------\u001b[0m",
      "\u001b[0;31mValueError\u001b[0m                                Traceback (most recent call last)",
      "\u001b[0;32m<ipython-input-28-66bd2f823886>\u001b[0m in \u001b[0;36m<module>\u001b[0;34m()\u001b[0m\n\u001b[1;32m      1\u001b[0m \u001b[0mfigure\u001b[0m\u001b[0;34m,\u001b[0m \u001b[0max\u001b[0m \u001b[0;34m=\u001b[0m \u001b[0mpyplot\u001b[0m\u001b[0;34m.\u001b[0m\u001b[0msubplots\u001b[0m\u001b[0;34m(\u001b[0m\u001b[0;36m1\u001b[0m\u001b[0;34m,\u001b[0m \u001b[0;36m2\u001b[0m\u001b[0;34m,\u001b[0m \u001b[0mfigsize\u001b[0m\u001b[0;34m=\u001b[0m\u001b[0;34m(\u001b[0m\u001b[0;36m6\u001b[0m\u001b[0;34m,\u001b[0m \u001b[0;36m3\u001b[0m\u001b[0;34m)\u001b[0m\u001b[0;34m)\u001b[0m\u001b[0;34m\u001b[0m\u001b[0m\n\u001b[0;32m----> 2\u001b[0;31m \u001b[0max\u001b[0m\u001b[0;34m[\u001b[0m\u001b[0;36m0\u001b[0m\u001b[0;34m]\u001b[0m\u001b[0;34m.\u001b[0m\u001b[0mplot\u001b[0m\u001b[0;34m(\u001b[0m\u001b[0mn_inducing\u001b[0m\u001b[0;34m,\u001b[0m \u001b[0merrors\u001b[0m\u001b[0;34m,\u001b[0m \u001b[0;34m'.'\u001b[0m\u001b[0;34m,\u001b[0m \u001b[0mlabel\u001b[0m\u001b[0;34m=\u001b[0m\u001b[0;34m'R2'\u001b[0m\u001b[0;34m)\u001b[0m\u001b[0;34m\u001b[0m\u001b[0m\n\u001b[0m\u001b[1;32m      3\u001b[0m \u001b[0max\u001b[0m\u001b[0;34m[\u001b[0m\u001b[0;36m0\u001b[0m\u001b[0;34m]\u001b[0m\u001b[0;34m.\u001b[0m\u001b[0mplot\u001b[0m\u001b[0;34m(\u001b[0m\u001b[0mn_inducing\u001b[0m\u001b[0;34m,\u001b[0m \u001b[0merrors\u001b[0m\u001b[0;34m,\u001b[0m \u001b[0;34m'-'\u001b[0m\u001b[0;34m,\u001b[0m \u001b[0mlabel\u001b[0m\u001b[0;34m=\u001b[0m\u001b[0;34m'R2'\u001b[0m\u001b[0;34m)\u001b[0m\u001b[0;34m\u001b[0m\u001b[0m\n\u001b[1;32m      4\u001b[0m \u001b[0max\u001b[0m\u001b[0;34m[\u001b[0m\u001b[0;36m0\u001b[0m\u001b[0;34m]\u001b[0m\u001b[0;34m.\u001b[0m\u001b[0mlegend\u001b[0m\u001b[0;34m(\u001b[0m\u001b[0mloc\u001b[0m\u001b[0;34m=\u001b[0m\u001b[0;34m'best'\u001b[0m\u001b[0;34m)\u001b[0m\u001b[0;34m\u001b[0m\u001b[0m\n\u001b[1;32m      5\u001b[0m \u001b[0max\u001b[0m\u001b[0;34m[\u001b[0m\u001b[0;36m1\u001b[0m\u001b[0;34m]\u001b[0m\u001b[0;34m.\u001b[0m\u001b[0mplot\u001b[0m\u001b[0;34m(\u001b[0m\u001b[0mn_inducing\u001b[0m\u001b[0;34m,\u001b[0m \u001b[0mtimes\u001b[0m\u001b[0;34m,\u001b[0m \u001b[0;34m'.'\u001b[0m\u001b[0;34m,\u001b[0m \u001b[0mlabel\u001b[0m\u001b[0;34m=\u001b[0m\u001b[0;34m'Training time'\u001b[0m\u001b[0;34m)\u001b[0m\u001b[0;34m\u001b[0m\u001b[0m\n",
      "\u001b[0;32m/Users/ferres/.pyenv/versions/3.6.0b4/envs/ds/lib/python3.6/site-packages/matplotlib/__init__.py\u001b[0m in \u001b[0;36minner\u001b[0;34m(ax, *args, **kwargs)\u001b[0m\n\u001b[1;32m   1896\u001b[0m                     warnings.warn(msg % (label_namer, func.__name__),\n\u001b[1;32m   1897\u001b[0m                                   RuntimeWarning, stacklevel=2)\n\u001b[0;32m-> 1898\u001b[0;31m             \u001b[0;32mreturn\u001b[0m \u001b[0mfunc\u001b[0m\u001b[0;34m(\u001b[0m\u001b[0max\u001b[0m\u001b[0;34m,\u001b[0m \u001b[0;34m*\u001b[0m\u001b[0margs\u001b[0m\u001b[0;34m,\u001b[0m \u001b[0;34m**\u001b[0m\u001b[0mkwargs\u001b[0m\u001b[0;34m)\u001b[0m\u001b[0;34m\u001b[0m\u001b[0m\n\u001b[0m\u001b[1;32m   1899\u001b[0m         \u001b[0mpre_doc\u001b[0m \u001b[0;34m=\u001b[0m \u001b[0minner\u001b[0m\u001b[0;34m.\u001b[0m\u001b[0m__doc__\u001b[0m\u001b[0;34m\u001b[0m\u001b[0m\n\u001b[1;32m   1900\u001b[0m         \u001b[0;32mif\u001b[0m \u001b[0mpre_doc\u001b[0m \u001b[0;32mis\u001b[0m \u001b[0;32mNone\u001b[0m\u001b[0;34m:\u001b[0m\u001b[0;34m\u001b[0m\u001b[0m\n",
      "\u001b[0;32m/Users/ferres/.pyenv/versions/3.6.0b4/envs/ds/lib/python3.6/site-packages/matplotlib/axes/_axes.py\u001b[0m in \u001b[0;36mplot\u001b[0;34m(self, *args, **kwargs)\u001b[0m\n\u001b[1;32m   1404\u001b[0m         \u001b[0mkwargs\u001b[0m \u001b[0;34m=\u001b[0m \u001b[0mcbook\u001b[0m\u001b[0;34m.\u001b[0m\u001b[0mnormalize_kwargs\u001b[0m\u001b[0;34m(\u001b[0m\u001b[0mkwargs\u001b[0m\u001b[0;34m,\u001b[0m \u001b[0m_alias_map\u001b[0m\u001b[0;34m)\u001b[0m\u001b[0;34m\u001b[0m\u001b[0m\n\u001b[1;32m   1405\u001b[0m \u001b[0;34m\u001b[0m\u001b[0m\n\u001b[0;32m-> 1406\u001b[0;31m         \u001b[0;32mfor\u001b[0m \u001b[0mline\u001b[0m \u001b[0;32min\u001b[0m \u001b[0mself\u001b[0m\u001b[0;34m.\u001b[0m\u001b[0m_get_lines\u001b[0m\u001b[0;34m(\u001b[0m\u001b[0;34m*\u001b[0m\u001b[0margs\u001b[0m\u001b[0;34m,\u001b[0m \u001b[0;34m**\u001b[0m\u001b[0mkwargs\u001b[0m\u001b[0;34m)\u001b[0m\u001b[0;34m:\u001b[0m\u001b[0;34m\u001b[0m\u001b[0m\n\u001b[0m\u001b[1;32m   1407\u001b[0m             \u001b[0mself\u001b[0m\u001b[0;34m.\u001b[0m\u001b[0madd_line\u001b[0m\u001b[0;34m(\u001b[0m\u001b[0mline\u001b[0m\u001b[0;34m)\u001b[0m\u001b[0;34m\u001b[0m\u001b[0m\n\u001b[1;32m   1408\u001b[0m             \u001b[0mlines\u001b[0m\u001b[0;34m.\u001b[0m\u001b[0mappend\u001b[0m\u001b[0;34m(\u001b[0m\u001b[0mline\u001b[0m\u001b[0;34m)\u001b[0m\u001b[0;34m\u001b[0m\u001b[0m\n",
      "\u001b[0;32m/Users/ferres/.pyenv/versions/3.6.0b4/envs/ds/lib/python3.6/site-packages/matplotlib/axes/_base.py\u001b[0m in \u001b[0;36m_grab_next_args\u001b[0;34m(self, *args, **kwargs)\u001b[0m\n\u001b[1;32m    405\u001b[0m                 \u001b[0;32mreturn\u001b[0m\u001b[0;34m\u001b[0m\u001b[0m\n\u001b[1;32m    406\u001b[0m             \u001b[0;32mif\u001b[0m \u001b[0mlen\u001b[0m\u001b[0;34m(\u001b[0m\u001b[0mremaining\u001b[0m\u001b[0;34m)\u001b[0m \u001b[0;34m<=\u001b[0m \u001b[0;36m3\u001b[0m\u001b[0;34m:\u001b[0m\u001b[0;34m\u001b[0m\u001b[0m\n\u001b[0;32m--> 407\u001b[0;31m                 \u001b[0;32mfor\u001b[0m \u001b[0mseg\u001b[0m \u001b[0;32min\u001b[0m \u001b[0mself\u001b[0m\u001b[0;34m.\u001b[0m\u001b[0m_plot_args\u001b[0m\u001b[0;34m(\u001b[0m\u001b[0mremaining\u001b[0m\u001b[0;34m,\u001b[0m \u001b[0mkwargs\u001b[0m\u001b[0;34m)\u001b[0m\u001b[0;34m:\u001b[0m\u001b[0;34m\u001b[0m\u001b[0m\n\u001b[0m\u001b[1;32m    408\u001b[0m                     \u001b[0;32myield\u001b[0m \u001b[0mseg\u001b[0m\u001b[0;34m\u001b[0m\u001b[0m\n\u001b[1;32m    409\u001b[0m                 \u001b[0;32mreturn\u001b[0m\u001b[0;34m\u001b[0m\u001b[0m\n",
      "\u001b[0;32m/Users/ferres/.pyenv/versions/3.6.0b4/envs/ds/lib/python3.6/site-packages/matplotlib/axes/_base.py\u001b[0m in \u001b[0;36m_plot_args\u001b[0;34m(self, tup, kwargs)\u001b[0m\n\u001b[1;32m    383\u001b[0m             \u001b[0mx\u001b[0m\u001b[0;34m,\u001b[0m \u001b[0my\u001b[0m \u001b[0;34m=\u001b[0m \u001b[0mindex_of\u001b[0m\u001b[0;34m(\u001b[0m\u001b[0mtup\u001b[0m\u001b[0;34m[\u001b[0m\u001b[0;34m-\u001b[0m\u001b[0;36m1\u001b[0m\u001b[0;34m]\u001b[0m\u001b[0;34m)\u001b[0m\u001b[0;34m\u001b[0m\u001b[0m\n\u001b[1;32m    384\u001b[0m \u001b[0;34m\u001b[0m\u001b[0m\n\u001b[0;32m--> 385\u001b[0;31m         \u001b[0mx\u001b[0m\u001b[0;34m,\u001b[0m \u001b[0my\u001b[0m \u001b[0;34m=\u001b[0m \u001b[0mself\u001b[0m\u001b[0;34m.\u001b[0m\u001b[0m_xy_from_xy\u001b[0m\u001b[0;34m(\u001b[0m\u001b[0mx\u001b[0m\u001b[0;34m,\u001b[0m \u001b[0my\u001b[0m\u001b[0;34m)\u001b[0m\u001b[0;34m\u001b[0m\u001b[0m\n\u001b[0m\u001b[1;32m    386\u001b[0m \u001b[0;34m\u001b[0m\u001b[0m\n\u001b[1;32m    387\u001b[0m         \u001b[0;32mif\u001b[0m \u001b[0mself\u001b[0m\u001b[0;34m.\u001b[0m\u001b[0mcommand\u001b[0m \u001b[0;34m==\u001b[0m \u001b[0;34m'plot'\u001b[0m\u001b[0;34m:\u001b[0m\u001b[0;34m\u001b[0m\u001b[0m\n",
      "\u001b[0;32m/Users/ferres/.pyenv/versions/3.6.0b4/envs/ds/lib/python3.6/site-packages/matplotlib/axes/_base.py\u001b[0m in \u001b[0;36m_xy_from_xy\u001b[0;34m(self, x, y)\u001b[0m\n\u001b[1;32m    242\u001b[0m         \u001b[0;32mif\u001b[0m \u001b[0mx\u001b[0m\u001b[0;34m.\u001b[0m\u001b[0mshape\u001b[0m\u001b[0;34m[\u001b[0m\u001b[0;36m0\u001b[0m\u001b[0;34m]\u001b[0m \u001b[0;34m!=\u001b[0m \u001b[0my\u001b[0m\u001b[0;34m.\u001b[0m\u001b[0mshape\u001b[0m\u001b[0;34m[\u001b[0m\u001b[0;36m0\u001b[0m\u001b[0;34m]\u001b[0m\u001b[0;34m:\u001b[0m\u001b[0;34m\u001b[0m\u001b[0m\n\u001b[1;32m    243\u001b[0m             raise ValueError(\"x and y must have same first dimension, but \"\n\u001b[0;32m--> 244\u001b[0;31m                              \"have shapes {} and {}\".format(x.shape, y.shape))\n\u001b[0m\u001b[1;32m    245\u001b[0m         \u001b[0;32mif\u001b[0m \u001b[0mx\u001b[0m\u001b[0;34m.\u001b[0m\u001b[0mndim\u001b[0m \u001b[0;34m>\u001b[0m \u001b[0;36m2\u001b[0m \u001b[0;32mor\u001b[0m \u001b[0my\u001b[0m\u001b[0;34m.\u001b[0m\u001b[0mndim\u001b[0m \u001b[0;34m>\u001b[0m \u001b[0;36m2\u001b[0m\u001b[0;34m:\u001b[0m\u001b[0;34m\u001b[0m\u001b[0m\n\u001b[1;32m    246\u001b[0m             raise ValueError(\"x and y can be no greater than 2-D, but have \"\n",
      "\u001b[0;31mValueError\u001b[0m: x and y must have same first dimension, but have shapes (4,) and (0,)"
     ]
    },
    {
     "data": {
      "image/png": "[encoded data removed]",
      "text/plain": [
       "<matplotlib.figure.Figure at 0x10c73e828>"
      ]
     },
     "metadata": {},
     "output_type": "display_data"
    }
   ],
   "source": [
    "figure, ax = pyplot.subplots(1, 2, figsize=(6, 3))\n",
    "ax[0].plot(n_inducing, errors, '.', label='R2')\n",
    "ax[0].plot(n_inducing, errors, '-', label='R2')\n",
    "ax[0].legend(loc='best')\n",
    "ax[1].plot(n_inducing, times, '.', label='Training time')\n",
    "ax[1].plot(n_inducing, times, '-', label='Training time')\n",
    "ax[1].legend(loc='best')\n",
    "figure.tight_layout()\n",
    "\n",
    "pyplot.show()"
   ]
  },
  {
   "cell_type": "code",
   "execution_count": null,
   "metadata": {
    "collapsed": true
   },
   "outputs": [],
   "source": []
  }
 ],
 "metadata": {
  "kernelspec": {
   "display_name": "Python 3",
   "language": "python",
   "name": "python3"
  },
  "language_info": {
   "codemirror_mode": {
    "name": "ipython",
    "version": 3
   },
   "file_extension": ".py",
   "mimetype": "text/x-python",
   "name": "python",
   "nbconvert_exporter": "python",
   "pygments_lexer": "ipython3",
   "version": "3.6.0b4"
  }
 },
 "nbformat": 4,
 "nbformat_minor": 2
}
